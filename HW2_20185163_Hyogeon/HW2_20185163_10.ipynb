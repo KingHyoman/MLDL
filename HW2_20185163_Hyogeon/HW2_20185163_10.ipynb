{
  "cells": [
    {
      "cell_type": "markdown",
      "metadata": {
        "id": "xWJ3PGIrs9u_"
      },
      "source": [
        "### ML/DL HW2 - Data Analysis with NYC Taxi dataset\n",
        "\n",
        "1. Copy this notebook and solve them by following the instruction.\n",
        "2. Upload the dataset in your directory before executing this code.\n",
        "  * Train data (71,514 rows; 2023/01/01-2023/01/23): [Download](https://drive.google.com/file/d/15Ne57MIFPFYgDMpbL5kOly9CjAoZe19r/view?usp=sharing)\n",
        "  * Test data (28,390 rows; 2023/01/24-2023/01/31): [Download](https://drive.google.com/file/d/15Mi8vm2guvePB7RaY6LPi3fxXOwLFlyw/view?usp=sharing)\n",
        "\n",
        "3. Note: Your code for all of the programming exercises including this one should be submitted to the corresponding Programming submission slot on Gradescope.\n",
        "\n",
        "Reference\n",
        "* https://github.com/TanmayKedari/Exploratory-Analysis-of-NYC-Taxi/blob/master/NYC%20Taxi%20Trip%20Duration.ipynb"
      ]
    },
    {
      "cell_type": "markdown",
      "metadata": {},
      "source": [
        "Student ID: 20185163\n",
        "Name: Hyogeon Jeon(전효건)"
      ]
    },
    {
      "cell_type": "code",
      "execution_count": 41,
      "metadata": {
        "colab": {
          "base_uri": "https://localhost:8080/",
          "height": 216
        },
        "id": "vDQO9YN-qudD",
        "outputId": "55b33096-b426-4b0c-a9fb-7c9ad88d06da"
      },
      "outputs": [
        {
          "name": "stdout",
          "output_type": "stream",
          "text": [
            "Requirement already satisfied: pandas in /usr/local/lib/python3.10/dist-packages (1.5.3)\n",
            "Requirement already satisfied: pyarrow in /usr/local/lib/python3.10/dist-packages (9.0.0)\n",
            "Requirement already satisfied: python-dateutil>=2.8.1 in /usr/local/lib/python3.10/dist-packages (from pandas) (2.8.2)\n",
            "Requirement already satisfied: pytz>=2020.1 in /usr/local/lib/python3.10/dist-packages (from pandas) (2023.3.post1)\n",
            "Requirement already satisfied: numpy>=1.21.0 in /usr/local/lib/python3.10/dist-packages (from pandas) (1.23.5)\n",
            "Requirement already satisfied: six>=1.5 in /usr/local/lib/python3.10/dist-packages (from python-dateutil>=2.8.1->pandas) (1.16.0)\n"
          ]
        },
        {
          "data": {
            "text/html": [
              "\n",
              "     <input type=\"file\" id=\"files-0f4aef45-56d9-4520-ba2a-34ac1fa09f68\" name=\"files[]\" multiple disabled\n",
              "        style=\"border:none\" />\n",
              "     <output id=\"result-0f4aef45-56d9-4520-ba2a-34ac1fa09f68\">\n",
              "      Upload widget is only available when the cell has been executed in the\n",
              "      current browser session. Please rerun this cell to enable.\n",
              "      </output>\n",
              "      <script>// Copyright 2017 Google LLC\n",
              "//\n",
              "// Licensed under the Apache License, Version 2.0 (the \"License\");\n",
              "// you may not use this file except in compliance with the License.\n",
              "// You may obtain a copy of the License at\n",
              "//\n",
              "//      http://www.apache.org/licenses/LICENSE-2.0\n",
              "//\n",
              "// Unless required by applicable law or agreed to in writing, software\n",
              "// distributed under the License is distributed on an \"AS IS\" BASIS,\n",
              "// WITHOUT WARRANTIES OR CONDITIONS OF ANY KIND, either express or implied.\n",
              "// See the License for the specific language governing permissions and\n",
              "// limitations under the License.\n",
              "\n",
              "/**\n",
              " * @fileoverview Helpers for google.colab Python module.\n",
              " */\n",
              "(function(scope) {\n",
              "function span(text, styleAttributes = {}) {\n",
              "  const element = document.createElement('span');\n",
              "  element.textContent = text;\n",
              "  for (const key of Object.keys(styleAttributes)) {\n",
              "    element.style[key] = styleAttributes[key];\n",
              "  }\n",
              "  return element;\n",
              "}\n",
              "\n",
              "// Max number of bytes which will be uploaded at a time.\n",
              "const MAX_PAYLOAD_SIZE = 100 * 1024;\n",
              "\n",
              "function _uploadFiles(inputId, outputId) {\n",
              "  const steps = uploadFilesStep(inputId, outputId);\n",
              "  const outputElement = document.getElementById(outputId);\n",
              "  // Cache steps on the outputElement to make it available for the next call\n",
              "  // to uploadFilesContinue from Python.\n",
              "  outputElement.steps = steps;\n",
              "\n",
              "  return _uploadFilesContinue(outputId);\n",
              "}\n",
              "\n",
              "// This is roughly an async generator (not supported in the browser yet),\n",
              "// where there are multiple asynchronous steps and the Python side is going\n",
              "// to poll for completion of each step.\n",
              "// This uses a Promise to block the python side on completion of each step,\n",
              "// then passes the result of the previous step as the input to the next step.\n",
              "function _uploadFilesContinue(outputId) {\n",
              "  const outputElement = document.getElementById(outputId);\n",
              "  const steps = outputElement.steps;\n",
              "\n",
              "  const next = steps.next(outputElement.lastPromiseValue);\n",
              "  return Promise.resolve(next.value.promise).then((value) => {\n",
              "    // Cache the last promise value to make it available to the next\n",
              "    // step of the generator.\n",
              "    outputElement.lastPromiseValue = value;\n",
              "    return next.value.response;\n",
              "  });\n",
              "}\n",
              "\n",
              "/**\n",
              " * Generator function which is called between each async step of the upload\n",
              " * process.\n",
              " * @param {string} inputId Element ID of the input file picker element.\n",
              " * @param {string} outputId Element ID of the output display.\n",
              " * @return {!Iterable<!Object>} Iterable of next steps.\n",
              " */\n",
              "function* uploadFilesStep(inputId, outputId) {\n",
              "  const inputElement = document.getElementById(inputId);\n",
              "  inputElement.disabled = false;\n",
              "\n",
              "  const outputElement = document.getElementById(outputId);\n",
              "  outputElement.innerHTML = '';\n",
              "\n",
              "  const pickedPromise = new Promise((resolve) => {\n",
              "    inputElement.addEventListener('change', (e) => {\n",
              "      resolve(e.target.files);\n",
              "    });\n",
              "  });\n",
              "\n",
              "  const cancel = document.createElement('button');\n",
              "  inputElement.parentElement.appendChild(cancel);\n",
              "  cancel.textContent = 'Cancel upload';\n",
              "  const cancelPromise = new Promise((resolve) => {\n",
              "    cancel.onclick = () => {\n",
              "      resolve(null);\n",
              "    };\n",
              "  });\n",
              "\n",
              "  // Wait for the user to pick the files.\n",
              "  const files = yield {\n",
              "    promise: Promise.race([pickedPromise, cancelPromise]),\n",
              "    response: {\n",
              "      action: 'starting',\n",
              "    }\n",
              "  };\n",
              "\n",
              "  cancel.remove();\n",
              "\n",
              "  // Disable the input element since further picks are not allowed.\n",
              "  inputElement.disabled = true;\n",
              "\n",
              "  if (!files) {\n",
              "    return {\n",
              "      response: {\n",
              "        action: 'complete',\n",
              "      }\n",
              "    };\n",
              "  }\n",
              "\n",
              "  for (const file of files) {\n",
              "    const li = document.createElement('li');\n",
              "    li.append(span(file.name, {fontWeight: 'bold'}));\n",
              "    li.append(span(\n",
              "        `(${file.type || 'n/a'}) - ${file.size} bytes, ` +\n",
              "        `last modified: ${\n",
              "            file.lastModifiedDate ? file.lastModifiedDate.toLocaleDateString() :\n",
              "                                    'n/a'} - `));\n",
              "    const percent = span('0% done');\n",
              "    li.appendChild(percent);\n",
              "\n",
              "    outputElement.appendChild(li);\n",
              "\n",
              "    const fileDataPromise = new Promise((resolve) => {\n",
              "      const reader = new FileReader();\n",
              "      reader.onload = (e) => {\n",
              "        resolve(e.target.result);\n",
              "      };\n",
              "      reader.readAsArrayBuffer(file);\n",
              "    });\n",
              "    // Wait for the data to be ready.\n",
              "    let fileData = yield {\n",
              "      promise: fileDataPromise,\n",
              "      response: {\n",
              "        action: 'continue',\n",
              "      }\n",
              "    };\n",
              "\n",
              "    // Use a chunked sending to avoid message size limits. See b/62115660.\n",
              "    let position = 0;\n",
              "    do {\n",
              "      const length = Math.min(fileData.byteLength - position, MAX_PAYLOAD_SIZE);\n",
              "      const chunk = new Uint8Array(fileData, position, length);\n",
              "      position += length;\n",
              "\n",
              "      const base64 = btoa(String.fromCharCode.apply(null, chunk));\n",
              "      yield {\n",
              "        response: {\n",
              "          action: 'append',\n",
              "          file: file.name,\n",
              "          data: base64,\n",
              "        },\n",
              "      };\n",
              "\n",
              "      let percentDone = fileData.byteLength === 0 ?\n",
              "          100 :\n",
              "          Math.round((position / fileData.byteLength) * 100);\n",
              "      percent.textContent = `${percentDone}% done`;\n",
              "\n",
              "    } while (position < fileData.byteLength);\n",
              "  }\n",
              "\n",
              "  // All done.\n",
              "  yield {\n",
              "    response: {\n",
              "      action: 'complete',\n",
              "    }\n",
              "  };\n",
              "}\n",
              "\n",
              "scope.google = scope.google || {};\n",
              "scope.google.colab = scope.google.colab || {};\n",
              "scope.google.colab._files = {\n",
              "  _uploadFiles,\n",
              "  _uploadFilesContinue,\n",
              "};\n",
              "})(self);\n",
              "</script> "
            ],
            "text/plain": [
              "<IPython.core.display.HTML object>"
            ]
          },
          "metadata": {},
          "output_type": "display_data"
        },
        {
          "name": "stdout",
          "output_type": "stream",
          "text": [
            "Saving yellow_tripdata_2023-01_small_test.parquet to yellow_tripdata_2023-01_small_test (1).parquet\n",
            "Saving yellow_tripdata_2023-01_small_train.parquet to yellow_tripdata_2023-01_small_train (1).parquet\n"
          ]
        }
      ],
      "source": [
        "!pip install pandas pyarrow\n",
        "import numpy as np\n",
        "import pandas as pd\n",
        "from google.colab import files\n",
        "files=files.upload()"
      ]
    },
    {
      "cell_type": "code",
      "execution_count": 45,
      "metadata": {
        "id": "Bn1kjKTGp8JH"
      },
      "outputs": [],
      "source": [
        "# Check the below cells before fill in your code.\n",
        "\n",
        "import pyarrow.parquet as pq\n",
        "import datetime\n",
        "\n",
        "class Dataset:\n",
        "  train_x = None  # X (data) of training set.\n",
        "  train_y = None  # Y (label) of training set.\n",
        "  test_x = None # X (data) of test set.\n",
        "  test_y = None # Y (label) of test set.\n",
        "\n",
        "  def __init__(self):\n",
        "    self.df_train = pq.read_table('./yellow_tripdata_2023-01_small_train.parquet').to_pandas()\n",
        "    self.df_test = pq.read_table('./yellow_tripdata_2023-01_small_test.parquet').to_pandas()\n",
        "    self.df_train = self.preprocess_data(self.df_train)\n",
        "    self.df_test = self.preprocess_data(self.df_test)\n",
        "\n",
        "  def preprocess_data(self, df):\n",
        "    ### TODO: Preprocess your data (Impute null values; DO NOT drop any test cases)\n",
        "\n",
        "    mode_ = df.mode().loc[0]\n",
        "    df = df.fillna(mode_)\n",
        "\n",
        "    for index in df:\n",
        "      for n in range(len(df[index])):\n",
        "        if not df[index][n] and df[index][n] != 0:\n",
        "          df[index][n] = mode_[index]\n",
        "\n",
        "    return df\n",
        "\n",
        "  def time_duration(self, df):\n",
        "    new = []\n",
        "    for i in range(len(df['tpep_dropoff_datetime'])):\n",
        "      a = df['tpep_dropoff_datetime'][i] - df['tpep_pickup_datetime'][i]\n",
        "      new.append(a.total_seconds())\n",
        "\n",
        "    return new\n",
        "\n",
        "  def getdata_linear_reg(self):\n",
        "    ### Hint: Use self.df_train, self.df_test\n",
        "    ### Three features (x): Passenger_count, trip_distance, trip_duration (seconds; use tpep_pickup_datetime, tpep_dropoff_datetime)\n",
        "    ### Target (y): fare_amount\n",
        "    self.train_x = np.array([self.df_train['passenger_count'], self.df_train['trip_distance'], \\\n",
        "                             self.time_duration(self.df_train)])  ### TODO: YOUR CODE HERE\n",
        "    self.train_y = np.array(self.df_train['fare_amount'])  ### TODO: YOUR CODE HERE\n",
        "    self.test_x = np.array([self.df_test['passenger_count'], self.df_test['trip_distance'], \\\n",
        "                            self.time_duration(self.df_test)])  ### TODO: YOUR CODE HERE\n",
        "    self.test_y = np.array(self.df_test['fare_amount']) ### TODO: YOUR CODE HERE\n",
        "    return [self.train_x, self.train_y, self.test_x, self.test_y]\n",
        "\n",
        "  def correlation(self, X, Y):\n",
        "    ### TODO: Correlation with each features\n",
        "    return np.corrcoef(X,Y)\n",
        "\n",
        "\n"
      ]
    },
    {
      "cell_type": "markdown",
      "metadata": {
        "id": "UAZWA3rlp_QX"
      },
      "source": [
        "# Test Code\n",
        "\n",
        "Provide some test code with your Linear regression code. Also, Compare with sklearn.LinearRegression()."
      ]
    },
    {
      "cell_type": "markdown",
      "metadata": {
        "id": "CbK0PY4G3VpB"
      },
      "source": [
        "### 1. Prepare the dataset (8pt)\n",
        "Load the train and test datasets.\n",
        "\n",
        "methods:\n",
        "\n",
        "(1) **preprocess_data(self, df)**: Handle None and null values (2pt)\n",
        "\n",
        "(2) **getdata_linear_reg(self)**: Separate the features/labels of the train/test set and save them separately in a numpy array format.(4pt)\n",
        "\n",
        "(3) **correlation(self, X, Y)**: Calculate the correlation between each features and target Y in training set (2pt)\n",
        "\n"
      ]
    },
    {
      "cell_type": "code",
      "execution_count": 46,
      "metadata": {
        "colab": {
          "base_uri": "https://localhost:8080/"
        },
        "id": "JBqyLFdu5zr9",
        "outputId": "1fd8c2c6-75e5-4120-fb09-cde9bb205ad5"
      },
      "outputs": [
        {
          "name": "stdout",
          "output_type": "stream",
          "text": [
            "[[1.000e+00 5.000e+00 1.000e+00 ... 1.000e+00 1.000e+00 1.000e+00]\n",
            " [2.950e+00 2.350e+00 2.040e+00 ... 1.212e+01 1.640e+00 4.030e+00]\n",
            " [9.220e+02 1.715e+03 7.050e+02 ... 1.443e+03 5.060e+02 8.240e+02]]\n",
            "[17.7 23.3 13.5 ... 47.8 10.7 19.1]\n",
            "[[1.00e+00 1.00e+00 2.00e+00 ... 1.00e+00 1.00e+00 1.00e+00]\n",
            " [1.78e+00 8.00e-01 3.00e+00 ... 4.34e+00 0.00e+00 3.05e+00]\n",
            " [4.72e+02 1.08e+02 7.74e+02 ... 1.08e+03 5.48e+02 8.39e+02]]\n",
            "[10.7   5.1  16.3  ... 20.88  3.9  15.8 ]\n"
          ]
        },
        {
          "data": {
            "text/plain": [
              "array([[1.        , 0.0346795 , 0.03041054, 0.03716105],\n",
              "       [0.0346795 , 1.        , 0.81681065, 0.89185981],\n",
              "       [0.03041054, 0.81681065, 1.        , 0.79295615],\n",
              "       [0.03716105, 0.89185981, 0.79295615, 1.        ]])"
            ]
          },
          "execution_count": 46,
          "metadata": {},
          "output_type": "execute_result"
        }
      ],
      "source": [
        "dataset = Dataset()\n",
        "[train_x, train_y, test_x, test_y] = dataset.getdata_linear_reg()\n",
        "print(train_x)\n",
        "print(train_y)\n",
        "print(test_x)\n",
        "print(test_y)\n",
        "\n",
        "dataset.correlation(train_x, train_y)"
      ]
    },
    {
      "cell_type": "markdown",
      "metadata": {
        "id": "MOv1M9TK8Nqr"
      },
      "source": [
        "### Question 2: Linear Regression Using Scikit-learn (6 points)\n",
        "\n",
        "For this task, you are required to implement linear regression utilizing the scikit-learn library. You will be working with the LinearRegression module, which provides functions and methods tailored for this purpose.\n",
        "\n",
        "For comprehensive documentation and usage guidelines, please refer to the official scikit-learn documentation: https://scikit-learn.org/stable/modules/generated/sklearn.linear_model.LinearRegression.html\n",
        "\n",
        "Ensure to:\n",
        "* Properly import the necessary libraries and modules.\n",
        "* Provide a brief explanation or observation after obtaining the results."
      ]
    },
    {
      "cell_type": "code",
      "execution_count": 44,
      "metadata": {
        "colab": {
          "base_uri": "https://localhost:8080/"
        },
        "id": "LiYTZxblbUDS",
        "outputId": "54fc2848-eb4b-44ac-fe08-1a43e3ea4340"
      },
      "outputs": [
        {
          "name": "stdout",
          "output_type": "stream",
          "text": [
            "Collecting sklearn\n",
            "  Using cached sklearn-0.0.post9.tar.gz (3.6 kB)\n",
            "  Preparing metadata (setup.py) ... \u001b[?25l\u001b[?25hdone\n",
            "Building wheels for collected packages: sklearn\n",
            "  Building wheel for sklearn (setup.py) ... \u001b[?25l\u001b[?25hdone\n",
            "  Created wheel for sklearn: filename=sklearn-0.0.post9-py3-none-any.whl size=2952 sha256=fa467ac8f75c5fee57519fdb0f0c9269f54952b7984f746f0cb018ec1753ea90\n",
            "  Stored in directory: /root/.cache/pip/wheels/33/a3/d2/092b519e9522b4c91608b7dcec0dd9051fa1bff4c45f4502d1\n",
            "Successfully built sklearn\n",
            "Installing collected packages: sklearn\n",
            "Successfully installed sklearn-0.0.post9\n"
          ]
        }
      ],
      "source": [
        "!pip install sklearn"
      ]
    },
    {
      "cell_type": "code",
      "execution_count": 47,
      "metadata": {
        "colab": {
          "base_uri": "https://localhost:8080/",
          "height": 538
        },
        "id": "lwbM65XBsHtR",
        "outputId": "ed849b68-0866-45c5-e655-36374b9657bb"
      },
      "outputs": [
        {
          "name": "stdout",
          "output_type": "stream",
          "text": [
            "Root Mean Squared Error (RMSE) on test data: 6.70\n",
            "\n",
            "Model Coefficients: [0.11415376 2.92476095 0.00525156]\n",
            "Model Intercept: 3.71\n",
            "\n"
          ]
        },
        {
          "data": {
            "image/png": "[encoded data removed]",
            "text/plain": [
              "<Figure size 640x480 with 1 Axes>"
            ]
          },
          "metadata": {},
          "output_type": "display_data"
        }
      ],
      "source": [
        "# # Install necessary libraries\n",
        "# !pip install sklearn\n",
        "\n",
        "# Import required modules\n",
        "from sklearn.linear_model import LinearRegression\n",
        "from sklearn.metrics import mean_squared_error\n",
        "import numpy as np\n",
        "\n",
        "# Initialize the Linear Regression model\n",
        "linear = LinearRegression()\n",
        "\n",
        "# Fit the model to the training data (Use train_x, train_y, and linear.fit function)\n",
        "### TODO: YOUR CODE HERE\n",
        "X_train = np.transpose(train_x)\n",
        "y_train = train_y\n",
        "model = linear.fit(X_train, y_train)\n",
        "\n",
        "# Predict the target values for the test dataset (Use linear.predict function and test_x to find y_hat)\n",
        "X_test = np.transpose(test_x)\n",
        "\n",
        "y_hat = linear.predict(X_test)  ### TODO: YOUR CODE HERE\n",
        "\n",
        "def RMSE(true, predicted):\n",
        "# Calculate the Root Mean Squared Error (RMSE) for model evaluation\n",
        "  rmse = np.sqrt(mean_squared_error(test_y, y_hat))  ### TODO: YOUR CODE HERE\n",
        "  return rmse\n",
        "\n",
        "error = RMSE(test_y, y_hat)\n",
        "print(f\"Root Mean Squared Error (RMSE) on test data: {error:.2f}\")\n",
        "\n",
        "# Find the slope (coefficients) and intercepts\n",
        "slope = model.coef_  ### TODO: YOUR CODE HERE\n",
        "intercept = model.intercept_  ### TODO: YOUR CODE HERE\n",
        "print(f\"\\nModel Coefficients: {slope}\")\n",
        "print(f\"Model Intercept: {intercept:.2f}\")\n",
        "\n",
        "import matplotlib.pyplot as plt\n",
        "# Add plots to visualize the difference between actual vs predicted values\n",
        "### TODO: YOUR CODE HERE\n",
        "print()\n",
        "plt.scatter(test_y, y_hat)\n",
        "x=np.arange(0, 200)\n",
        "y=x\n",
        "plt.plot(x, y, color='black')   # Same point that real and predicted.\n",
        "plt.xlabel('real data')\n",
        "plt.ylabel('predicted data')\n",
        "plt.show()\n"
      ]
    },
    {
      "cell_type": "markdown",
      "metadata": {
        "id": "q0PTCFXN6fjP"
      },
      "source": [
        "### 3. Craft Your Linear Regression Algorithm (6pt)\n",
        "Delve into the foundations of linear regression by constructing your own model to make predictions on the dataset.\n",
        "\n",
        "While detailed annotations will guide your implementation, do not use external libraries such as scikit-learn. Using the numpy library is permitted.\n",
        "\n",
        "Begin your exploration by understanding the closed form solution for linear regression. Subsequently, familiarize yourself with the gradient descent methodology.\n",
        "\n"
      ]
    },
    {
      "cell_type": "code",
      "execution_count": null,
      "metadata": {
        "id": "tpt2mXexqjwM"
      },
      "outputs": [],
      "source": [
        "from numpy import *\n",
        "\n",
        "class Linear:\n",
        "\n",
        "    w = None\n",
        "\n",
        "    def __init__(self, eta=0.01, epoch=100):\n",
        "      self.w = None\n",
        "      self.eta = eta\n",
        "      self.epoch = epoch\n",
        "\n",
        "    def setEta(self, etaVal):\n",
        "      self.eta = etaVal\n",
        "\n",
        "    def setEpoch(self, nepoch):\n",
        "      self.epoch = nepoch\n",
        "\n",
        "    def predict(self, X):\n",
        "      \"\"\"\n",
        "      Perform inference\n",
        "      \"\"\"\n",
        "      ### TODO: YOUR CODE HERE\n",
        "\n",
        "    def train(self, X, Y):\n",
        "      \"\"\"\n",
        "      Construct a vanilla linear regressor using gradient descent.\n",
        "      \"\"\"\n",
        "      ### TODO: YOUR CODE HERE\n"
      ]
    },
    {
      "cell_type": "code",
      "execution_count": null,
      "metadata": {
        "id": "FENjv9O39ilV"
      },
      "outputs": [],
      "source": [
        "def RMSE(y_test, y_hat):\n",
        "    \"\"\"\n",
        "    Return Root Mean Squared Error\n",
        "    \"\"\"\n",
        "    ### TODO : YOUR CODE HERE"
      ]
    },
    {
      "cell_type": "code",
      "execution_count": null,
      "metadata": {
        "id": "T5K8HfSJ6xMp"
      },
      "outputs": [],
      "source": [
        "model = Linear()"
      ]
    },
    {
      "cell_type": "code",
      "execution_count": null,
      "metadata": {
        "id": "qLeNXKdt939Q"
      },
      "outputs": [],
      "source": [
        "model.train(train_x, train_y)"
      ]
    },
    {
      "cell_type": "code",
      "execution_count": null,
      "metadata": {
        "id": "tnY03jmU96UZ"
      },
      "outputs": [],
      "source": [
        "y_hat = model.predict(test_x)\n",
        "print(y_hat)"
      ]
    },
    {
      "cell_type": "code",
      "execution_count": null,
      "metadata": {
        "id": "npVetb3f66pw"
      },
      "outputs": [],
      "source": [
        "error = RMSE(test_y, y_hat)\n",
        "print(error)"
      ]
    }
  ],
  "metadata": {
    "colab": {
      "provenance": []
    },
    "kernelspec": {
      "display_name": "Python 3",
      "name": "python3"
    },
    "language_info": {
      "name": "python"
    }
  },
  "nbformat": 4,
  "nbformat_minor": 0
}
