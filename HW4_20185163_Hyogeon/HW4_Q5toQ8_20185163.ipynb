{
 "cells": [
  {
   "cell_type": "markdown",
   "metadata": {},
   "source": [
    "Student ID: 20185163 \\\n",
    "Name: 전효건(Hyogeon Jeon)"
   ]
  },
  {
   "cell_type": "code",
   "execution_count": 48,
   "metadata": {},
   "outputs": [],
   "source": [
    "import numpy as np\n",
    "import statsmodels.api as sm\n",
    "from ISLP import load_data\n",
    "from ISLP.models import (ModelSpec as MS, summarize, poly)\n",
    "from sklearn.model_selection import train_test_split\n",
    "import pandas as pd\n",
    "import matplotlib.pyplot as plt"
   ]
  },
  {
   "cell_type": "code",
   "execution_count": 49,
   "metadata": {},
   "outputs": [],
   "source": [
    "from functools import partial\n",
    "from sklearn.model_selection import \\\n",
    "(cross_validate , KFold , ShuffleSplit)\n",
    "from sklearn.base import clone\n",
    "from ISLP.models import sklearn_sm\n",
    "from statsmodels.stats.anova import anova_lm"
   ]
  },
  {
   "cell_type": "markdown",
   "metadata": {},
   "source": [
    "# Q5"
   ]
  },
  {
   "cell_type": "code",
   "execution_count": 119,
   "metadata": {},
   "outputs": [],
   "source": [
    "Wage = load_data('Wage')"
   ]
  },
  {
   "cell_type": "code",
   "execution_count": 120,
   "metadata": {},
   "outputs": [],
   "source": [
    "age = Wage['age']\n",
    "y = Wage['wage']"
   ]
  },
  {
   "cell_type": "markdown",
   "metadata": {},
   "source": [
    "## (a)"
   ]
  },
  {
   "cell_type": "code",
   "execution_count": 5,
   "metadata": {},
   "outputs": [
    {
     "data": {
      "text/plain": [
       "[1676.234884587656,\n",
       " 1600.529272922958,\n",
       " 1595.9595683995444,\n",
       " 1594.5958670192995,\n",
       " 1594.8785607682603,\n",
       " 1594.1186798533586,\n",
       " 1593.7136369970558,\n",
       " 1593.784940786522,\n",
       " 1594.299696416935,\n",
       " 1599.7755748797267]"
      ]
     },
     "execution_count": 5,
     "metadata": {},
     "output_type": "execute_result"
    }
   ],
   "source": [
    "## using cross validation to select the optimal degree\n",
    "\n",
    "CV_scores = []\n",
    "H = np.array(age)\n",
    "age_model = sklearn_sm(sm.OLS)\n",
    "for d in range(1, 11):\n",
    "    tem = np.power.outer(H, np.arange(d+1))\n",
    "    cv_score = cross_validate(age_model, tem, y, cv=Wage.shape[0])\n",
    "    CV_scores.append(np.mean(cv_score['test_score']))\n",
    "CV_scores"
   ]
  },
  {
   "cell_type": "code",
   "execution_count": 6,
   "metadata": {},
   "outputs": [
    {
     "data": {
      "image/png": "[encoded data removed]",
      "text/plain": [
       "<Figure size 640x480 with 1 Axes>"
      ]
     },
     "metadata": {},
     "output_type": "display_data"
    }
   ],
   "source": [
    "plt.scatter([degree for degree in range(1, 11)], CV_scores)\n",
    "plt.plot([degree for degree in range(1, 11)], CV_scores)\n",
    "plt.xlabel('degree')\n",
    "plt.ylabel('CV_score')\n",
    "plt.show()"
   ]
  },
  {
   "cell_type": "markdown",
   "metadata": {},
   "source": [
    "Optimal degree d is 4."
   ]
  },
  {
   "cell_type": "code",
   "execution_count": 7,
   "metadata": {},
   "outputs": [
    {
     "data": {
      "text/html": [
       "<div>\n",
       "<style scoped>\n",
       "    .dataframe tbody tr th:only-of-type {\n",
       "        vertical-align: middle;\n",
       "    }\n",
       "\n",
       "    .dataframe tbody tr th {\n",
       "        vertical-align: top;\n",
       "    }\n",
       "\n",
       "    .dataframe thead th {\n",
       "        text-align: right;\n",
       "    }\n",
       "</style>\n",
       "<table border=\"1\" class=\"dataframe\">\n",
       "  <thead>\n",
       "    <tr style=\"text-align: right;\">\n",
       "      <th></th>\n",
       "      <th>df_resid</th>\n",
       "      <th>ssr</th>\n",
       "      <th>df_diff</th>\n",
       "      <th>ss_diff</th>\n",
       "      <th>F</th>\n",
       "      <th>Pr(&gt;F)</th>\n",
       "    </tr>\n",
       "  </thead>\n",
       "  <tbody>\n",
       "    <tr>\n",
       "      <th>0</th>\n",
       "      <td>2998.0</td>\n",
       "      <td>5.022216e+06</td>\n",
       "      <td>0.0</td>\n",
       "      <td>NaN</td>\n",
       "      <td>NaN</td>\n",
       "      <td>NaN</td>\n",
       "    </tr>\n",
       "    <tr>\n",
       "      <th>1</th>\n",
       "      <td>2997.0</td>\n",
       "      <td>4.793430e+06</td>\n",
       "      <td>1.0</td>\n",
       "      <td>228786.010128</td>\n",
       "      <td>143.763809</td>\n",
       "      <td>2.177738e-32</td>\n",
       "    </tr>\n",
       "    <tr>\n",
       "      <th>2</th>\n",
       "      <td>2996.0</td>\n",
       "      <td>4.777674e+06</td>\n",
       "      <td>1.0</td>\n",
       "      <td>15755.693664</td>\n",
       "      <td>9.900512</td>\n",
       "      <td>1.668545e-03</td>\n",
       "    </tr>\n",
       "    <tr>\n",
       "      <th>3</th>\n",
       "      <td>2995.0</td>\n",
       "      <td>4.771604e+06</td>\n",
       "      <td>1.0</td>\n",
       "      <td>6070.152124</td>\n",
       "      <td>3.814342</td>\n",
       "      <td>5.090855e-02</td>\n",
       "    </tr>\n",
       "    <tr>\n",
       "      <th>4</th>\n",
       "      <td>2994.0</td>\n",
       "      <td>4.770322e+06</td>\n",
       "      <td>1.0</td>\n",
       "      <td>1282.563017</td>\n",
       "      <td>0.805933</td>\n",
       "      <td>3.693976e-01</td>\n",
       "    </tr>\n",
       "    <tr>\n",
       "      <th>5</th>\n",
       "      <td>2993.0</td>\n",
       "      <td>4.766389e+06</td>\n",
       "      <td>1.0</td>\n",
       "      <td>3932.257665</td>\n",
       "      <td>2.470939</td>\n",
       "      <td>1.160743e-01</td>\n",
       "    </tr>\n",
       "    <tr>\n",
       "      <th>6</th>\n",
       "      <td>2992.0</td>\n",
       "      <td>4.763834e+06</td>\n",
       "      <td>1.0</td>\n",
       "      <td>2555.281281</td>\n",
       "      <td>1.605679</td>\n",
       "      <td>2.051988e-01</td>\n",
       "    </tr>\n",
       "    <tr>\n",
       "      <th>7</th>\n",
       "      <td>2991.0</td>\n",
       "      <td>4.763707e+06</td>\n",
       "      <td>1.0</td>\n",
       "      <td>126.668985</td>\n",
       "      <td>0.079596</td>\n",
       "      <td>7.778654e-01</td>\n",
       "    </tr>\n",
       "    <tr>\n",
       "      <th>8</th>\n",
       "      <td>2990.0</td>\n",
       "      <td>4.756703e+06</td>\n",
       "      <td>1.0</td>\n",
       "      <td>7004.317139</td>\n",
       "      <td>4.401350</td>\n",
       "      <td>3.599422e-02</td>\n",
       "    </tr>\n",
       "    <tr>\n",
       "      <th>9</th>\n",
       "      <td>2989.0</td>\n",
       "      <td>4.756701e+06</td>\n",
       "      <td>1.0</td>\n",
       "      <td>2.637537</td>\n",
       "      <td>0.001657</td>\n",
       "      <td>9.675292e-01</td>\n",
       "    </tr>\n",
       "  </tbody>\n",
       "</table>\n",
       "</div>"
      ],
      "text/plain": [
       "   df_resid           ssr  df_diff        ss_diff           F        Pr(>F)\n",
       "0    2998.0  5.022216e+06      0.0            NaN         NaN           NaN\n",
       "1    2997.0  4.793430e+06      1.0  228786.010128  143.763809  2.177738e-32\n",
       "2    2996.0  4.777674e+06      1.0   15755.693664    9.900512  1.668545e-03\n",
       "3    2995.0  4.771604e+06      1.0    6070.152124    3.814342  5.090855e-02\n",
       "4    2994.0  4.770322e+06      1.0    1282.563017    0.805933  3.693976e-01\n",
       "5    2993.0  4.766389e+06      1.0    3932.257665    2.470939  1.160743e-01\n",
       "6    2992.0  4.763834e+06      1.0    2555.281281    1.605679  2.051988e-01\n",
       "7    2991.0  4.763707e+06      1.0     126.668985    0.079596  7.778654e-01\n",
       "8    2990.0  4.756703e+06      1.0    7004.317139    4.401350  3.599422e-02\n",
       "9    2989.0  4.756701e+06      1.0       2.637537    0.001657  9.675292e-01"
      ]
     },
     "execution_count": 7,
     "metadata": {},
     "output_type": "execute_result"
    }
   ],
   "source": [
    "## the results of hypothesis testing using ANOVA\n",
    "models = [MS([poly('age', degree=d)]) for d in range(1, 11)]\n",
    "XEs = [model.fit_transform(Wage) for model in models]\n",
    "anova_lm(*[sm.OLS(y, X_).fit() for X_ in XEs])"
   ]
  },
  {
   "cell_type": "markdown",
   "metadata": {},
   "source": [
    "ANOVA has same optimal degree 4."
   ]
  },
  {
   "cell_type": "code",
   "execution_count": 8,
   "metadata": {},
   "outputs": [
    {
     "data": {
      "image/png": "[encoded data removed]",
      "text/plain": [
       "<Figure size 640x480 with 1 Axes>"
      ]
     },
     "metadata": {},
     "output_type": "display_data"
    }
   ],
   "source": [
    "## Fit the model with optimal degree\n",
    "age_grid = np.linspace(age.min(), age.max(), 100)\n",
    "age_df = pd.DataFrame({'age': age_grid})\n",
    "\n",
    "poly_age = MS([poly('age', degree=4)]).fit(Wage) \n",
    "M = sm.OLS(y, poly_age.transform(Wage)).fit()\n",
    "\n",
    "## Make a plot\n",
    "Xnew = poly_age.transform(age_df)\n",
    "y_pred = M.get_prediction(Xnew)\n",
    "bands = y_pred.conf_int(alpha=0.05)\n",
    "\n",
    "plt.scatter(age, y)\n",
    "for val, ls in zip([y_pred.predicted_mean, bands[:,0], bands[:,1]], ['b','r--','r--']):\n",
    "    plt.plot(age_df.values, val, ls, linewidth=3) \n",
    " \n",
    "plt.xlabel('Age', fontsize=20) \n",
    "plt.ylabel('Wage', fontsize=20)\n",
    "plt.show()"
   ]
  },
  {
   "cell_type": "markdown",
   "metadata": {},
   "source": [
    "## (b)"
   ]
  },
  {
   "cell_type": "code",
   "execution_count": 58,
   "metadata": {},
   "outputs": [
    {
     "data": {
      "text/plain": [
       "[1741.856300564997,\n",
       " 1703.725248390094,\n",
       " 1660.0675160597543,\n",
       " 1641.3098214294298,\n",
       " 1637.7166928258694,\n",
       " 1630.2769159785664,\n",
       " 1623.1125314742899,\n",
       " 1620.1804151252088,\n",
       " 1618.3466309225669,\n",
       " 1615.201968555808,\n",
       " 1617.051900125101]"
      ]
     },
     "execution_count": 58,
     "metadata": {},
     "output_type": "execute_result"
    }
   ],
   "source": [
    "## using cross validation to select the best number of cuts\n",
    "\n",
    "CV_scores_2 = []\n",
    "age_model = sklearn_sm(sm.OLS)\n",
    "for d in range(1, 12):\n",
    "    cutting = pd.qcut(age, d)\n",
    "    san_dummies = pd.get_dummies(cutting)\n",
    "\n",
    "    \n",
    "\n",
    "    cv_score = cross_validate(age_model, san_dummies, y, cv=Wage.shape[0])\n",
    "    CV_scores_2.append(np.mean(cv_score['test_score']))\n",
    "CV_scores_2"
   ]
  },
  {
   "cell_type": "code",
   "execution_count": 121,
   "metadata": {},
   "outputs": [
    {
     "data": {
      "image/png": "[encoded data removed]",
      "text/plain": [
       "<Figure size 640x480 with 1 Axes>"
      ]
     },
     "metadata": {},
     "output_type": "display_data"
    }
   ],
   "source": [
    "plt.scatter([degree for degree in range(1, 12)], CV_scores_2)\n",
    "plt.plot([degree for degree in range(1, 12)], CV_scores_2)\n",
    "plt.xlabel('cuts')\n",
    "plt.ylabel('CV_score')\n",
    "plt.show()"
   ]
  },
  {
   "cell_type": "markdown",
   "metadata": {},
   "source": [
    "The optimal number of cuts: 10"
   ]
  },
  {
   "cell_type": "code",
   "execution_count": 122,
   "metadata": {},
   "outputs": [],
   "source": [
    "cutting_num = 10"
   ]
  },
  {
   "cell_type": "code",
   "execution_count": null,
   "metadata": {},
   "outputs": [
    {
     "name": "stderr",
     "output_type": "stream",
     "text": [
      "/var/folders/nl/dgt8hdmn7_v0m0qwx5kv3sx40000gn/T/ipykernel_10045/2547345229.py:9: FutureWarning: Support for multi-dimensional indexing (e.g. `obj[:, None]`) is deprecated and will be removed in a future version.  Convert to a numpy array before indexing instead.\n",
      "  reg = sm.GLM(y_step[:,np.newaxis], X_step).fit()\n"
     ]
    },
    {
     "data": {
      "text/plain": [
       "[<matplotlib.lines.Line2D at 0x288467c50>]"
      ]
     },
     "execution_count": 123,
     "metadata": {},
     "output_type": "execute_result"
    },
    {
     "data": {
      "image/png": "[encoded data removed]",
      "text/plain": [
       "<Figure size 640x480 with 1 Axes>"
      ]
     },
     "metadata": {},
     "output_type": "display_data"
    }
   ],
   "source": [
    "age_groups = pd.qcut(age, cutting_num)\n",
    "age_dummies = pd.get_dummies(age_groups)\n",
    "\n",
    "step_data = age_dummies.join(y)\n",
    "\n",
    "X_step = step_data.iloc[:,:-1]\n",
    "y_step = step_data.iloc[:,-1]\n",
    "\n",
    "reg = sm.GLM(y_step[:,np.newaxis], X_step).fit()\n",
    "\n",
    "X_aux = np.linspace(age.min(),age.max())\n",
    "groups_aux = pd.qcut(X_aux, cutting_num)\n",
    "aux_dummies = pd.get_dummies(groups_aux)\n",
    "\n",
    "X_step_lin = np.linspace(18,80)\n",
    "y_pred = reg.predict(aux_dummies)\n",
    "\n",
    "plt.scatter(age,y)\n",
    "plt.plot(X_step_lin, y_pred,'-r')\n"
   ]
  },
  {
   "cell_type": "markdown",
   "metadata": {},
   "source": [
    "# Q6"
   ]
  },
  {
   "cell_type": "code",
   "execution_count": 13,
   "metadata": {},
   "outputs": [],
   "source": [
    "from ISLP.models import bs"
   ]
  },
  {
   "cell_type": "code",
   "execution_count": 14,
   "metadata": {},
   "outputs": [],
   "source": [
    "Boston = load_data('Boston')\n",
    "dis = Boston['dis']\n",
    "nox = Boston['nox']"
   ]
  },
  {
   "cell_type": "markdown",
   "metadata": {},
   "source": [
    "## (a)"
   ]
  },
  {
   "cell_type": "code",
   "execution_count": 15,
   "metadata": {},
   "outputs": [
    {
     "data": {
      "text/plain": [
       "[1.9341067071790692,\n",
       " 1.922774992811926,\n",
       " 1.8401728014885246,\n",
       " 1.83396590316021,\n",
       " 1.8298844459232837,\n",
       " 1.8169950567252333,\n",
       " 1.8256525103870551,\n",
       " 1.7925348895561344,\n",
       " 1.796991821731426,\n",
       " 1.7889991452888836,\n",
       " 1.7823504287434357,\n",
       " 1.7818380568631234,\n",
       " 1.7827978404413125,\n",
       " 1.783545766301766]"
      ]
     },
     "execution_count": 15,
     "metadata": {},
     "output_type": "execute_result"
    }
   ],
   "source": [
    "## RSS by changing a range of degrees of freedom\n",
    "RSS = []\n",
    "for d in range(3, 17):\n",
    "    bs_dis = MS([bs('dis', df=d)]).fit(Boston) \n",
    "    Xbs0 = bs_dis.transform(Boston)\n",
    "    M = sm.OLS(nox, Xbs0).fit()\n",
    "    rss = sum((M.resid) ** 2)\n",
    "    RSS.append(rss)\n",
    "RSS"
   ]
  },
  {
   "cell_type": "markdown",
   "metadata": {},
   "source": [
    "RSS decreases until 14 and then slightly increases."
   ]
  },
  {
   "cell_type": "code",
   "execution_count": 16,
   "metadata": {},
   "outputs": [
    {
     "data": {
      "text/html": [
       "<div>\n",
       "<style scoped>\n",
       "    .dataframe tbody tr th:only-of-type {\n",
       "        vertical-align: middle;\n",
       "    }\n",
       "\n",
       "    .dataframe tbody tr th {\n",
       "        vertical-align: top;\n",
       "    }\n",
       "\n",
       "    .dataframe thead th {\n",
       "        text-align: right;\n",
       "    }\n",
       "</style>\n",
       "<table border=\"1\" class=\"dataframe\">\n",
       "  <thead>\n",
       "    <tr style=\"text-align: right;\">\n",
       "      <th></th>\n",
       "      <th>coef</th>\n",
       "      <th>std err</th>\n",
       "      <th>t</th>\n",
       "      <th>P&gt;|t|</th>\n",
       "    </tr>\n",
       "  </thead>\n",
       "  <tbody>\n",
       "    <tr>\n",
       "      <th>intercept</th>\n",
       "      <td>0.6537</td>\n",
       "      <td>0.033</td>\n",
       "      <td>19.933</td>\n",
       "      <td>0.000</td>\n",
       "    </tr>\n",
       "    <tr>\n",
       "      <th>bs(dis, df=14)[0]</th>\n",
       "      <td>0.0284</td>\n",
       "      <td>0.062</td>\n",
       "      <td>0.454</td>\n",
       "      <td>0.650</td>\n",
       "    </tr>\n",
       "    <tr>\n",
       "      <th>bs(dis, df=14)[1]</th>\n",
       "      <td>0.0981</td>\n",
       "      <td>0.039</td>\n",
       "      <td>2.514</td>\n",
       "      <td>0.012</td>\n",
       "    </tr>\n",
       "    <tr>\n",
       "      <th>bs(dis, df=14)[2]</th>\n",
       "      <td>0.0266</td>\n",
       "      <td>0.041</td>\n",
       "      <td>0.657</td>\n",
       "      <td>0.512</td>\n",
       "    </tr>\n",
       "    <tr>\n",
       "      <th>bs(dis, df=14)[3]</th>\n",
       "      <td>-0.0268</td>\n",
       "      <td>0.036</td>\n",
       "      <td>-0.735</td>\n",
       "      <td>0.462</td>\n",
       "    </tr>\n",
       "    <tr>\n",
       "      <th>bs(dis, df=14)[4]</th>\n",
       "      <td>-0.0254</td>\n",
       "      <td>0.038</td>\n",
       "      <td>-0.664</td>\n",
       "      <td>0.507</td>\n",
       "    </tr>\n",
       "    <tr>\n",
       "      <th>bs(dis, df=14)[5]</th>\n",
       "      <td>-0.0710</td>\n",
       "      <td>0.038</td>\n",
       "      <td>-1.868</td>\n",
       "      <td>0.062</td>\n",
       "    </tr>\n",
       "    <tr>\n",
       "      <th>bs(dis, df=14)[6]</th>\n",
       "      <td>-0.1585</td>\n",
       "      <td>0.040</td>\n",
       "      <td>-4.003</td>\n",
       "      <td>0.000</td>\n",
       "    </tr>\n",
       "    <tr>\n",
       "      <th>bs(dis, df=14)[7]</th>\n",
       "      <td>-0.1497</td>\n",
       "      <td>0.038</td>\n",
       "      <td>-3.945</td>\n",
       "      <td>0.000</td>\n",
       "    </tr>\n",
       "    <tr>\n",
       "      <th>bs(dis, df=14)[8]</th>\n",
       "      <td>-0.1470</td>\n",
       "      <td>0.038</td>\n",
       "      <td>-3.820</td>\n",
       "      <td>0.000</td>\n",
       "    </tr>\n",
       "    <tr>\n",
       "      <th>bs(dis, df=14)[9]</th>\n",
       "      <td>-0.2224</td>\n",
       "      <td>0.038</td>\n",
       "      <td>-5.884</td>\n",
       "      <td>0.000</td>\n",
       "    </tr>\n",
       "    <tr>\n",
       "      <th>bs(dis, df=14)[10]</th>\n",
       "      <td>-0.1884</td>\n",
       "      <td>0.037</td>\n",
       "      <td>-5.084</td>\n",
       "      <td>0.000</td>\n",
       "    </tr>\n",
       "    <tr>\n",
       "      <th>bs(dis, df=14)[11]</th>\n",
       "      <td>-0.2794</td>\n",
       "      <td>0.051</td>\n",
       "      <td>-5.468</td>\n",
       "      <td>0.000</td>\n",
       "    </tr>\n",
       "    <tr>\n",
       "      <th>bs(dis, df=14)[12]</th>\n",
       "      <td>-0.2097</td>\n",
       "      <td>0.073</td>\n",
       "      <td>-2.873</td>\n",
       "      <td>0.004</td>\n",
       "    </tr>\n",
       "    <tr>\n",
       "      <th>bs(dis, df=14)[13]</th>\n",
       "      <td>-0.2532</td>\n",
       "      <td>0.066</td>\n",
       "      <td>-3.835</td>\n",
       "      <td>0.000</td>\n",
       "    </tr>\n",
       "  </tbody>\n",
       "</table>\n",
       "</div>"
      ],
      "text/plain": [
       "                      coef  std err       t  P>|t|\n",
       "intercept           0.6537    0.033  19.933  0.000\n",
       "bs(dis, df=14)[0]   0.0284    0.062   0.454  0.650\n",
       "bs(dis, df=14)[1]   0.0981    0.039   2.514  0.012\n",
       "bs(dis, df=14)[2]   0.0266    0.041   0.657  0.512\n",
       "bs(dis, df=14)[3]  -0.0268    0.036  -0.735  0.462\n",
       "bs(dis, df=14)[4]  -0.0254    0.038  -0.664  0.507\n",
       "bs(dis, df=14)[5]  -0.0710    0.038  -1.868  0.062\n",
       "bs(dis, df=14)[6]  -0.1585    0.040  -4.003  0.000\n",
       "bs(dis, df=14)[7]  -0.1497    0.038  -3.945  0.000\n",
       "bs(dis, df=14)[8]  -0.1470    0.038  -3.820  0.000\n",
       "bs(dis, df=14)[9]  -0.2224    0.038  -5.884  0.000\n",
       "bs(dis, df=14)[10] -0.1884    0.037  -5.084  0.000\n",
       "bs(dis, df=14)[11] -0.2794    0.051  -5.468  0.000\n",
       "bs(dis, df=14)[12] -0.2097    0.073  -2.873  0.004\n",
       "bs(dis, df=14)[13] -0.2532    0.066  -3.835  0.000"
      ]
     },
     "execution_count": 16,
     "metadata": {},
     "output_type": "execute_result"
    }
   ],
   "source": [
    "## Fit a regression spline using the best degrees of freedom\n",
    "bs_dis = MS([bs('dis', df=14)]).fit(Boston) \n",
    "Xbs0 = bs_dis.transform(Boston)\n",
    "M = sm.OLS(nox, Xbs0).fit()\n",
    "summarize(M)"
   ]
  },
  {
   "cell_type": "markdown",
   "metadata": {},
   "source": [
    "## (b)"
   ]
  },
  {
   "cell_type": "code",
   "execution_count": 17,
   "metadata": {},
   "outputs": [
    {
     "data": {
      "text/plain": [
       "[0.0038747616256500214,\n",
       " 0.0038930263806277593,\n",
       " 0.0037042985109126663,\n",
       " 0.003704597712123921,\n",
       " 0.0037110988763432522,\n",
       " 0.003700226732840413,\n",
       " 0.003731218767662003,\n",
       " 0.003693212911334346,\n",
       " 0.0037152259647564166,\n",
       " 0.0037009130405063033,\n",
       " 0.0037081857304491635,\n",
       " 0.003734087489004523,\n",
       " 0.0037559728186924803,\n",
       " 0.0037676287669497917]"
      ]
     },
     "execution_count": 17,
     "metadata": {},
     "output_type": "execute_result"
    }
   ],
   "source": [
    "## cross-validation to select the best degrees of freedom\n",
    "CV_scores = []\n",
    "H = np.array(dis)\n",
    "dis_model = sklearn_sm(sm.OLS)\n",
    "for d in range(3, 17):\n",
    "    bs_dis = MS([bs('dis', df=d)]).fit(Boston) \n",
    "    Xbs0 = bs_dis.transform(Boston)\n",
    "    cv_score = cross_validate(dis_model, Xbs0, nox, cv=Boston.shape[0])\n",
    "    CV_scores.append(np.mean(cv_score['test_score']))\n",
    "CV_scores"
   ]
  },
  {
   "cell_type": "markdown",
   "metadata": {},
   "source": [
    "MSE is miinimum for 10 degrees of freedom."
   ]
  },
  {
   "cell_type": "markdown",
   "metadata": {},
   "source": [
    "# Q7"
   ]
  },
  {
   "cell_type": "code",
   "execution_count": 18,
   "metadata": {},
   "outputs": [],
   "source": [
    "from sklearn.tree import (DecisionTreeClassifier as DTC, DecisionTreeRegressor as DTR,\n",
    "plot_tree ,\n",
    "export_text)\n",
    "from sklearn.metrics import (accuracy_score ,log_loss) \n",
    "from sklearn.ensemble import \\\n",
    "(RandomForestRegressor as RF, GradientBoostingRegressor as GBR)\n",
    "from ISLP.bart import BART"
   ]
  },
  {
   "cell_type": "code",
   "execution_count": 19,
   "metadata": {},
   "outputs": [],
   "source": [
    "import numpy as np\n",
    "import pandas as pd\n",
    "from matplotlib.pyplot import subplots\n",
    "from statsmodels.datasets import get_rdataset \n",
    "import sklearn.model_selection as skm\n",
    "from ISLP import load_data , confusion_table \n",
    "from ISLP.models import ModelSpec as MS\n",
    "from sklearn.metrics import mean_squared_error"
   ]
  },
  {
   "cell_type": "code",
   "execution_count": 20,
   "metadata": {},
   "outputs": [],
   "source": [
    "Carseats = load_data('Carseats')\n",
    "High = np.where(Carseats.Sales > 8, \"Yes\", \"No\")"
   ]
  },
  {
   "cell_type": "markdown",
   "metadata": {},
   "source": [
    "## (a)"
   ]
  },
  {
   "cell_type": "code",
   "execution_count": 21,
   "metadata": {},
   "outputs": [],
   "source": [
    "model = MS(Carseats.columns.drop('Sales'), intercept=False) \n",
    "D = model.fit_transform(Carseats)\n",
    "feature_names = list(D.columns)\n",
    "X = np.asarray(D)"
   ]
  },
  {
   "cell_type": "code",
   "execution_count": 22,
   "metadata": {},
   "outputs": [],
   "source": [
    "## Split the data\n",
    "X_train, X_test , y_train , y_test = skm.train_test_split(X, Carseats['Sales'], test_size=0.3, random_state=0)"
   ]
  },
  {
   "cell_type": "code",
   "execution_count": 23,
   "metadata": {},
   "outputs": [
    {
     "data": {
      "text/plain": [
       "[Text(0.5, 0.875, 'ShelveLoc[Good] <= 0.5\\nsquared_error = 8.438\\nsamples = 280\\nvalue = 7.378'),\n",
       " Text(0.25, 0.625, 'ShelveLoc[Medium] <= 0.5\\nsquared_error = 6.26\\nsamples = 226\\nvalue = 6.705'),\n",
       " Text(0.125, 0.375, 'Price <= 102.5\\nsquared_error = 5.251\\nsamples = 71\\nvalue = 5.159'),\n",
       " Text(0.0625, 0.125, 'squared_error = 4.795\\nsamples = 21\\nvalue = 6.697'),\n",
       " Text(0.1875, 0.125, 'squared_error = 4.031\\nsamples = 50\\nvalue = 4.512'),\n",
       " Text(0.375, 0.375, 'Price <= 106.5\\nsquared_error = 5.127\\nsamples = 155\\nvalue = 7.413'),\n",
       " Text(0.3125, 0.125, 'squared_error = 4.149\\nsamples = 55\\nvalue = 8.743'),\n",
       " Text(0.4375, 0.125, 'squared_error = 4.156\\nsamples = 100\\nvalue = 6.681'),\n",
       " Text(0.75, 0.625, 'Price <= 107.5\\nsquared_error = 7.698\\nsamples = 54\\nvalue = 10.198'),\n",
       " Text(0.625, 0.375, 'Age <= 55.5\\nsquared_error = 3.888\\nsamples = 20\\nvalue = 12.345'),\n",
       " Text(0.5625, 0.125, 'squared_error = 2.928\\nsamples = 11\\nvalue = 13.395'),\n",
       " Text(0.6875, 0.125, 'squared_error = 2.068\\nsamples = 9\\nvalue = 11.061'),\n",
       " Text(0.875, 0.375, 'Price <= 134.5\\nsquared_error = 5.636\\nsamples = 34\\nvalue = 8.936'),\n",
       " Text(0.8125, 0.125, 'squared_error = 3.797\\nsamples = 23\\nvalue = 9.876'),\n",
       " Text(0.9375, 0.125, 'squared_error = 3.767\\nsamples = 11\\nvalue = 6.97')]"
      ]
     },
     "execution_count": 23,
     "metadata": {},
     "output_type": "execute_result"
    },
    {
     "data": {
      "image/png": "[encoded data removed]",
      "text/plain": [
       "<Figure size 1200x1200 with 1 Axes>"
      ]
     },
     "metadata": {},
     "output_type": "display_data"
    }
   ],
   "source": [
    "## Fit a regression tree && Plot the tree\n",
    "reg = DTR(max_depth=3) \n",
    "reg.fit(X_train, y_train)\n",
    "ax = subplots(figsize=(12,12))[1] \n",
    "plot_tree(reg, feature_names=feature_names, ax=ax)"
   ]
  },
  {
   "cell_type": "markdown",
   "metadata": {},
   "source": [
    "According to the tree, ShelveLoc is the most important factor. Price is the second most important factor."
   ]
  },
  {
   "cell_type": "code",
   "execution_count": 24,
   "metadata": {},
   "outputs": [
    {
     "name": "stdout",
     "output_type": "stream",
     "text": [
      "Test MSE:  3.7038582752360933\n"
     ]
    }
   ],
   "source": [
    "## Test MSE\n",
    "print('Test MSE: ', mean_squared_error(y_test, reg.predict(X_test)))"
   ]
  },
  {
   "cell_type": "markdown",
   "metadata": {},
   "source": [
    "## (b)"
   ]
  },
  {
   "cell_type": "code",
   "execution_count": 25,
   "metadata": {},
   "outputs": [],
   "source": [
    "## use the cross-validation function to see whether pruning the tree will improve performance\n",
    "\n",
    "ccp_path = reg.cost_complexity_pruning_path(X_train, y_train) \n",
    "kfold = skm.KFold(5, shuffle=True, random_state=10) \n",
    "grid = skm.GridSearchCV(reg, {'ccp_alpha': ccp_path.ccp_alphas}, \\\n",
    "                        refit=True, cv=kfold, scoring='neg_mean_squared_error')\n",
    "G = grid.fit(X_train, y_train)"
   ]
  },
  {
   "cell_type": "code",
   "execution_count": 26,
   "metadata": {},
   "outputs": [
    {
     "name": "stdout",
     "output_type": "stream",
     "text": [
      "Test MSE:  3.703858275236093\n"
     ]
    }
   ],
   "source": [
    "best_ = grid.best_estimator_\n",
    "print('Test MSE: ', np.mean((y_test - best_.predict(X_test))**2))"
   ]
  },
  {
   "cell_type": "markdown",
   "metadata": {},
   "source": [
    "It has similar MSE thus pruning the tree does not improve."
   ]
  },
  {
   "cell_type": "markdown",
   "metadata": {},
   "source": [
    "## (c)"
   ]
  },
  {
   "cell_type": "code",
   "execution_count": 27,
   "metadata": {},
   "outputs": [
    {
     "name": "stdout",
     "output_type": "stream",
     "text": [
      "Test MSE:  2.022357787630009\n"
     ]
    }
   ],
   "source": [
    "## bagging approach\n",
    "bag_carseat = RF(max_features=X_train.shape[1], n_estimators=500, random_state=0).fit(X_train, y_train) \n",
    "y_hat_bag = bag_carseat.predict(X_test)\n",
    "print('Test MSE: ', np.mean((y_test - y_hat_bag)**2))"
   ]
  },
  {
   "cell_type": "code",
   "execution_count": 28,
   "metadata": {},
   "outputs": [
    {
     "data": {
      "text/html": [
       "<div>\n",
       "<style scoped>\n",
       "    .dataframe tbody tr th:only-of-type {\n",
       "        vertical-align: middle;\n",
       "    }\n",
       "\n",
       "    .dataframe tbody tr th {\n",
       "        vertical-align: top;\n",
       "    }\n",
       "\n",
       "    .dataframe thead th {\n",
       "        text-align: right;\n",
       "    }\n",
       "</style>\n",
       "<table border=\"1\" class=\"dataframe\">\n",
       "  <thead>\n",
       "    <tr style=\"text-align: right;\">\n",
       "      <th></th>\n",
       "      <th>importance</th>\n",
       "    </tr>\n",
       "  </thead>\n",
       "  <tbody>\n",
       "    <tr>\n",
       "      <th>Price</th>\n",
       "      <td>0.286739</td>\n",
       "    </tr>\n",
       "    <tr>\n",
       "      <th>ShelveLoc[Good]</th>\n",
       "      <td>0.220032</td>\n",
       "    </tr>\n",
       "    <tr>\n",
       "      <th>Age</th>\n",
       "      <td>0.105334</td>\n",
       "    </tr>\n",
       "    <tr>\n",
       "      <th>CompPrice</th>\n",
       "      <td>0.100722</td>\n",
       "    </tr>\n",
       "    <tr>\n",
       "      <th>ShelveLoc[Medium]</th>\n",
       "      <td>0.085106</td>\n",
       "    </tr>\n",
       "    <tr>\n",
       "      <th>Advertising</th>\n",
       "      <td>0.068797</td>\n",
       "    </tr>\n",
       "    <tr>\n",
       "      <th>Income</th>\n",
       "      <td>0.053542</td>\n",
       "    </tr>\n",
       "    <tr>\n",
       "      <th>Population</th>\n",
       "      <td>0.039245</td>\n",
       "    </tr>\n",
       "    <tr>\n",
       "      <th>Education</th>\n",
       "      <td>0.029526</td>\n",
       "    </tr>\n",
       "    <tr>\n",
       "      <th>US[Yes]</th>\n",
       "      <td>0.006573</td>\n",
       "    </tr>\n",
       "    <tr>\n",
       "      <th>Urban[Yes]</th>\n",
       "      <td>0.004382</td>\n",
       "    </tr>\n",
       "  </tbody>\n",
       "</table>\n",
       "</div>"
      ],
      "text/plain": [
       "                   importance\n",
       "Price                0.286739\n",
       "ShelveLoc[Good]      0.220032\n",
       "Age                  0.105334\n",
       "CompPrice            0.100722\n",
       "ShelveLoc[Medium]    0.085106\n",
       "Advertising          0.068797\n",
       "Income               0.053542\n",
       "Population           0.039245\n",
       "Education            0.029526\n",
       "US[Yes]              0.006573\n",
       "Urban[Yes]           0.004382"
      ]
     },
     "execution_count": 28,
     "metadata": {},
     "output_type": "execute_result"
    }
   ],
   "source": [
    "feature_imp = pd.DataFrame( {'importance':bag_carseat.feature_importances_}, index=feature_names)\n",
    "feature_imp.sort_values(by='importance', ascending=False)"
   ]
  },
  {
   "cell_type": "markdown",
   "metadata": {},
   "source": [
    "## (d)"
   ]
  },
  {
   "cell_type": "code",
   "execution_count": 29,
   "metadata": {},
   "outputs": [
    {
     "name": "stdout",
     "output_type": "stream",
     "text": [
      "Test MSE:  2.3081906261666654\n"
     ]
    }
   ],
   "source": [
    "## random forests\n",
    "RF_carseat = RF(max_features=3, random_state=0).fit(X_train, y_train)\n",
    "y_hat_RF = RF_carseat.predict(X_test) \n",
    "print('Test MSE: ', np.mean((y_test - y_hat_RF)**2))"
   ]
  },
  {
   "cell_type": "code",
   "execution_count": 30,
   "metadata": {},
   "outputs": [
    {
     "data": {
      "text/html": [
       "<div>\n",
       "<style scoped>\n",
       "    .dataframe tbody tr th:only-of-type {\n",
       "        vertical-align: middle;\n",
       "    }\n",
       "\n",
       "    .dataframe tbody tr th {\n",
       "        vertical-align: top;\n",
       "    }\n",
       "\n",
       "    .dataframe thead th {\n",
       "        text-align: right;\n",
       "    }\n",
       "</style>\n",
       "<table border=\"1\" class=\"dataframe\">\n",
       "  <thead>\n",
       "    <tr style=\"text-align: right;\">\n",
       "      <th></th>\n",
       "      <th>importance</th>\n",
       "    </tr>\n",
       "  </thead>\n",
       "  <tbody>\n",
       "    <tr>\n",
       "      <th>Price</th>\n",
       "      <td>0.251774</td>\n",
       "    </tr>\n",
       "    <tr>\n",
       "      <th>ShelveLoc[Good]</th>\n",
       "      <td>0.151880</td>\n",
       "    </tr>\n",
       "    <tr>\n",
       "      <th>Age</th>\n",
       "      <td>0.123050</td>\n",
       "    </tr>\n",
       "    <tr>\n",
       "      <th>CompPrice</th>\n",
       "      <td>0.094249</td>\n",
       "    </tr>\n",
       "    <tr>\n",
       "      <th>Advertising</th>\n",
       "      <td>0.093043</td>\n",
       "    </tr>\n",
       "    <tr>\n",
       "      <th>Income</th>\n",
       "      <td>0.088340</td>\n",
       "    </tr>\n",
       "    <tr>\n",
       "      <th>Population</th>\n",
       "      <td>0.070033</td>\n",
       "    </tr>\n",
       "    <tr>\n",
       "      <th>Education</th>\n",
       "      <td>0.049216</td>\n",
       "    </tr>\n",
       "    <tr>\n",
       "      <th>ShelveLoc[Medium]</th>\n",
       "      <td>0.045724</td>\n",
       "    </tr>\n",
       "    <tr>\n",
       "      <th>US[Yes]</th>\n",
       "      <td>0.019114</td>\n",
       "    </tr>\n",
       "    <tr>\n",
       "      <th>Urban[Yes]</th>\n",
       "      <td>0.013576</td>\n",
       "    </tr>\n",
       "  </tbody>\n",
       "</table>\n",
       "</div>"
      ],
      "text/plain": [
       "                   importance\n",
       "Price                0.251774\n",
       "ShelveLoc[Good]      0.151880\n",
       "Age                  0.123050\n",
       "CompPrice            0.094249\n",
       "Advertising          0.093043\n",
       "Income               0.088340\n",
       "Population           0.070033\n",
       "Education            0.049216\n",
       "ShelveLoc[Medium]    0.045724\n",
       "US[Yes]              0.019114\n",
       "Urban[Yes]           0.013576"
      ]
     },
     "execution_count": 30,
     "metadata": {},
     "output_type": "execute_result"
    }
   ],
   "source": [
    "feature_imp = pd.DataFrame( {'importance':RF_carseat.feature_importances_}, index=feature_names)\n",
    "feature_imp.sort_values(by='importance', ascending=False)"
   ]
  },
  {
   "cell_type": "markdown",
   "metadata": {},
   "source": []
  },
  {
   "cell_type": "markdown",
   "metadata": {},
   "source": [
    "# Q8"
   ]
  },
  {
   "cell_type": "markdown",
   "metadata": {},
   "source": [
    "## (a)"
   ]
  },
  {
   "cell_type": "code",
   "execution_count": 31,
   "metadata": {},
   "outputs": [],
   "source": [
    "## Drop NaN rows\n",
    "Hitters = load_data('Hitters')\n",
    "Hitters = Hitters.dropna(subset='Salary')\n",
    "\n",
    "Hitters = Hitters.drop(['League'], axis=1)\n",
    "Hitters = Hitters.drop(['Division'], axis=1)\n",
    "Hitters = Hitters.drop(['NewLeague'], axis=1)\n",
    "\n",
    "X = Hitters.drop(['Salary'], axis=1)\n",
    "y = Hitters['Salary']\n",
    "## log transform\n",
    "y = np.log(y)\n",
    "\n",
    "## train, test data\n",
    "X_train, X_test = X[:200], X[200:]\n",
    "y_train, y_test = y[:200], y[200:]"
   ]
  },
  {
   "cell_type": "code",
   "execution_count": 32,
   "metadata": {},
   "outputs": [],
   "source": [
    "lam = [0.001, 0.0025, 0.005, 0.01, 0.025, 0.05, 0.1, 0.25, 0.5]\n",
    "MSE = []\n",
    "for i in lam:\n",
    "    boost_hitter = GBR(n_estimators=5000, learning_rate=i, max_depth=3, random_state=0)\n",
    "    boost_hitter.fit(X_train, y_train)\n",
    "    MSE.append(mean_squared_error(y_train, boost_hitter.predict(X_train)))"
   ]
  },
  {
   "cell_type": "code",
   "execution_count": 33,
   "metadata": {},
   "outputs": [
    {
     "data": {
      "image/png": "[encoded data removed]",
      "text/plain": [
       "<Figure size 640x480 with 1 Axes>"
      ]
     },
     "metadata": {},
     "output_type": "display_data"
    }
   ],
   "source": [
    "plt.scatter(lam, MSE)\n",
    "plt.xlabel('shrinkage values')\n",
    "plt.ylabel('MSE')\n",
    "plt.show()"
   ]
  },
  {
   "cell_type": "code",
   "execution_count": 34,
   "metadata": {},
   "outputs": [],
   "source": [
    "lam = [0.001, 0.0025, 0.005, 0.01, 0.025, 0.05, 0.1, 0.25, 0.5]\n",
    "MSE = []\n",
    "for i in lam:\n",
    "    boost_hitter = GBR(n_estimators=5000, learning_rate=i, max_depth=3, random_state=0)\n",
    "    boost_hitter.fit(X_train, y_train)\n",
    "    MSE.append(mean_squared_error(y_test, boost_hitter.predict(X_test)))"
   ]
  },
  {
   "cell_type": "code",
   "execution_count": 35,
   "metadata": {},
   "outputs": [
    {
     "data": {
      "image/png": "[encoded data removed]",
      "text/plain": [
       "<Figure size 640x480 with 1 Axes>"
      ]
     },
     "metadata": {},
     "output_type": "display_data"
    }
   ],
   "source": [
    "plt.scatter(lam, MSE)\n",
    "plt.xlabel('shrinkage values')\n",
    "plt.ylabel('MSE')\n",
    "plt.show()"
   ]
  },
  {
   "cell_type": "markdown",
   "metadata": {},
   "source": [
    "## (b)"
   ]
  },
  {
   "cell_type": "code",
   "execution_count": 36,
   "metadata": {},
   "outputs": [],
   "source": [
    "from sklearn.linear_model import LinearRegression\n",
    "from sklearn.linear_model import RidgeCV"
   ]
  },
  {
   "cell_type": "code",
   "execution_count": 37,
   "metadata": {},
   "outputs": [
    {
     "name": "stdout",
     "output_type": "stream",
     "text": [
      "Test MSE of boosting 0.24722959590606683\n"
     ]
    }
   ],
   "source": [
    "print('Test MSE of boosting', np.mean(MSE))"
   ]
  },
  {
   "cell_type": "code",
   "execution_count": 38,
   "metadata": {},
   "outputs": [
    {
     "name": "stdout",
     "output_type": "stream",
     "text": [
      "Test MSE of linear regression:  0.5156972276434895\n"
     ]
    }
   ],
   "source": [
    "linear_reg = LinearRegression()\n",
    "linear_reg.fit(X_train, y_train)\n",
    "\n",
    "print('Test MSE of linear regression: ', mean_squared_error(y_test, linear_reg.predict(X_test)))"
   ]
  },
  {
   "cell_type": "code",
   "execution_count": 39,
   "metadata": {},
   "outputs": [
    {
     "name": "stdout",
     "output_type": "stream",
     "text": [
      "Test MSE of ridge:  0.5153295271239651\n"
     ]
    }
   ],
   "source": [
    "ridge = RidgeCV()\n",
    "ridge.fit(X_train, y_train)\n",
    "\n",
    "print('Test MSE of ridge: ', mean_squared_error(y_test, ridge.predict(X_test)))"
   ]
  },
  {
   "cell_type": "markdown",
   "metadata": {},
   "source": [
    "Boosting has better MSE than linear and ridge regression."
   ]
  },
  {
   "cell_type": "markdown",
   "metadata": {},
   "source": [
    "## (c)"
   ]
  },
  {
   "cell_type": "code",
   "execution_count": 40,
   "metadata": {},
   "outputs": [
    {
     "data": {
      "text/html": [
       "<div>\n",
       "<style scoped>\n",
       "    .dataframe tbody tr th:only-of-type {\n",
       "        vertical-align: middle;\n",
       "    }\n",
       "\n",
       "    .dataframe tbody tr th {\n",
       "        vertical-align: top;\n",
       "    }\n",
       "\n",
       "    .dataframe thead th {\n",
       "        text-align: right;\n",
       "    }\n",
       "</style>\n",
       "<table border=\"1\" class=\"dataframe\">\n",
       "  <thead>\n",
       "    <tr style=\"text-align: right;\">\n",
       "      <th></th>\n",
       "      <th>importance</th>\n",
       "    </tr>\n",
       "  </thead>\n",
       "  <tbody>\n",
       "    <tr>\n",
       "      <th>CAtBat</th>\n",
       "      <td>0.525174</td>\n",
       "    </tr>\n",
       "    <tr>\n",
       "      <th>CHits</th>\n",
       "      <td>0.091982</td>\n",
       "    </tr>\n",
       "    <tr>\n",
       "      <th>CRuns</th>\n",
       "      <td>0.054053</td>\n",
       "    </tr>\n",
       "    <tr>\n",
       "      <th>Walks</th>\n",
       "      <td>0.048465</td>\n",
       "    </tr>\n",
       "    <tr>\n",
       "      <th>AtBat</th>\n",
       "      <td>0.047964</td>\n",
       "    </tr>\n",
       "    <tr>\n",
       "      <th>CRBI</th>\n",
       "      <td>0.036839</td>\n",
       "    </tr>\n",
       "    <tr>\n",
       "      <th>CHmRun</th>\n",
       "      <td>0.035570</td>\n",
       "    </tr>\n",
       "    <tr>\n",
       "      <th>CWalks</th>\n",
       "      <td>0.034908</td>\n",
       "    </tr>\n",
       "    <tr>\n",
       "      <th>Years</th>\n",
       "      <td>0.028848</td>\n",
       "    </tr>\n",
       "    <tr>\n",
       "      <th>Hits</th>\n",
       "      <td>0.026961</td>\n",
       "    </tr>\n",
       "    <tr>\n",
       "      <th>RBI</th>\n",
       "      <td>0.023030</td>\n",
       "    </tr>\n",
       "    <tr>\n",
       "      <th>PutOuts</th>\n",
       "      <td>0.015906</td>\n",
       "    </tr>\n",
       "    <tr>\n",
       "      <th>Runs</th>\n",
       "      <td>0.011040</td>\n",
       "    </tr>\n",
       "    <tr>\n",
       "      <th>Errors</th>\n",
       "      <td>0.007480</td>\n",
       "    </tr>\n",
       "    <tr>\n",
       "      <th>HmRun</th>\n",
       "      <td>0.006016</td>\n",
       "    </tr>\n",
       "    <tr>\n",
       "      <th>Assists</th>\n",
       "      <td>0.005765</td>\n",
       "    </tr>\n",
       "  </tbody>\n",
       "</table>\n",
       "</div>"
      ],
      "text/plain": [
       "         importance\n",
       "CAtBat     0.525174\n",
       "CHits      0.091982\n",
       "CRuns      0.054053\n",
       "Walks      0.048465\n",
       "AtBat      0.047964\n",
       "CRBI       0.036839\n",
       "CHmRun     0.035570\n",
       "CWalks     0.034908\n",
       "Years      0.028848\n",
       "Hits       0.026961\n",
       "RBI        0.023030\n",
       "PutOuts    0.015906\n",
       "Runs       0.011040\n",
       "Errors     0.007480\n",
       "HmRun      0.006016\n",
       "Assists    0.005765"
      ]
     },
     "execution_count": 40,
     "metadata": {},
     "output_type": "execute_result"
    }
   ],
   "source": [
    "boost_hitter = GBR(n_estimators=5000, learning_rate=0.005, max_depth=3, random_state=0)\n",
    "boost_hitter.fit(X_train, y_train)\n",
    "feature = [i for i in X]\n",
    "feature_imp = pd.DataFrame( {'importance':boost_hitter.feature_importances_}, index=feature)\n",
    "feature_imp.sort_values(by='importance', ascending=False)"
   ]
  }
 ],
 "metadata": {
  "kernelspec": {
   "display_name": "Python 3 (ipykernel)",
   "language": "python",
   "name": "python3"
  },
  "language_info": {
   "codemirror_mode": {
    "name": "ipython",
    "version": 3
   },
   "file_extension": ".py",
   "mimetype": "text/x-python",
   "name": "python",
   "nbconvert_exporter": "python",
   "pygments_lexer": "ipython3",
   "version": "3.11.4"
  }
 },
 "nbformat": 4,
 "nbformat_minor": 2
}
