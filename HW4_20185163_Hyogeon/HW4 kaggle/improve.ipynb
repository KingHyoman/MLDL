{
 "cells": [
  {
   "cell_type": "code",
   "execution_count": 69,
   "metadata": {},
   "outputs": [],
   "source": [
    "import pandas as pd\n",
    "import numpy as np"
   ]
  },
  {
   "cell_type": "code",
   "execution_count": 70,
   "metadata": {},
   "outputs": [
    {
     "data": {
      "text/html": [
       "<div>\n",
       "<style scoped>\n",
       "    .dataframe tbody tr th:only-of-type {\n",
       "        vertical-align: middle;\n",
       "    }\n",
       "\n",
       "    .dataframe tbody tr th {\n",
       "        vertical-align: top;\n",
       "    }\n",
       "\n",
       "    .dataframe thead th {\n",
       "        text-align: right;\n",
       "    }\n",
       "</style>\n",
       "<table border=\"1\" class=\"dataframe\">\n",
       "  <thead>\n",
       "    <tr style=\"text-align: right;\">\n",
       "      <th></th>\n",
       "      <th>id</th>\n",
       "      <th>price</th>\n",
       "    </tr>\n",
       "  </thead>\n",
       "  <tbody>\n",
       "    <tr>\n",
       "      <th>0</th>\n",
       "      <td>RB0IF4</td>\n",
       "      <td>8006.761249</td>\n",
       "    </tr>\n",
       "    <tr>\n",
       "      <th>1</th>\n",
       "      <td>VZE001</td>\n",
       "      <td>6687.948179</td>\n",
       "    </tr>\n",
       "    <tr>\n",
       "      <th>2</th>\n",
       "      <td>KBPR5E</td>\n",
       "      <td>6660.981621</td>\n",
       "    </tr>\n",
       "    <tr>\n",
       "      <th>3</th>\n",
       "      <td>P9XC55</td>\n",
       "      <td>5283.805094</td>\n",
       "    </tr>\n",
       "    <tr>\n",
       "      <th>4</th>\n",
       "      <td>SWZ04L</td>\n",
       "      <td>6525.819519</td>\n",
       "    </tr>\n",
       "    <tr>\n",
       "      <th>...</th>\n",
       "      <td>...</td>\n",
       "      <td>...</td>\n",
       "    </tr>\n",
       "    <tr>\n",
       "      <th>56718</th>\n",
       "      <td>QHB8FI</td>\n",
       "      <td>6369.934281</td>\n",
       "    </tr>\n",
       "    <tr>\n",
       "      <th>56719</th>\n",
       "      <td>HPFH2G</td>\n",
       "      <td>8270.075063</td>\n",
       "    </tr>\n",
       "    <tr>\n",
       "      <th>56720</th>\n",
       "      <td>K2P4UU</td>\n",
       "      <td>6763.083222</td>\n",
       "    </tr>\n",
       "    <tr>\n",
       "      <th>56721</th>\n",
       "      <td>9OWCYX</td>\n",
       "      <td>6970.117027</td>\n",
       "    </tr>\n",
       "    <tr>\n",
       "      <th>56722</th>\n",
       "      <td>3AWY3Q</td>\n",
       "      <td>4443.850876</td>\n",
       "    </tr>\n",
       "  </tbody>\n",
       "</table>\n",
       "<p>56723 rows × 2 columns</p>\n",
       "</div>"
      ],
      "text/plain": [
       "           id        price\n",
       "0      RB0IF4  8006.761249\n",
       "1      VZE001  6687.948179\n",
       "2      KBPR5E  6660.981621\n",
       "3      P9XC55  5283.805094\n",
       "4      SWZ04L  6525.819519\n",
       "...       ...          ...\n",
       "56718  QHB8FI  6369.934281\n",
       "56719  HPFH2G  8270.075063\n",
       "56720  K2P4UU  6763.083222\n",
       "56721  9OWCYX  6970.117027\n",
       "56722  3AWY3Q  4443.850876\n",
       "\n",
       "[56723 rows x 2 columns]"
      ]
     },
     "execution_count": 70,
     "metadata": {},
     "output_type": "execute_result"
    }
   ],
   "source": [
    "v_0 = pd.read_csv('submission_0.csv')\n",
    "v_1 = pd.read_csv('submission_1.csv')\n",
    "v_0"
   ]
  },
  {
   "cell_type": "code",
   "execution_count": 71,
   "metadata": {},
   "outputs": [
    {
     "data": {
      "text/plain": [
       "-18.258095838685577"
      ]
     },
     "execution_count": 71,
     "metadata": {},
     "output_type": "execute_result"
    }
   ],
   "source": [
    "price_0 = v_0['price']\n",
    "price_1 = v_1['price']\n",
    "tot = []\n",
    "for i0, i1 in zip(price_0, price_1):\n",
    "    tot.append(i1 - i0)\n",
    "np.mean(tot)\n"
   ]
  },
  {
   "cell_type": "markdown",
   "metadata": {},
   "source": [
    "2500 < x < 2600"
   ]
  },
  {
   "cell_type": "code",
   "execution_count": 72,
   "metadata": {},
   "outputs": [
    {
     "data": {
      "text/plain": [
       "56723"
      ]
     },
     "execution_count": 72,
     "metadata": {},
     "output_type": "execute_result"
    }
   ],
   "source": [
    "new = []\n",
    "for i in price_1:\n",
    "    new.append(i - 2500)\n",
    "len(new)"
   ]
  },
  {
   "cell_type": "code",
   "execution_count": 73,
   "metadata": {},
   "outputs": [],
   "source": [
    "n = 0\n",
    "for i in range(len(new)):\n",
    "    if new[i] < 0:\n",
    "        new[i] = 2500\n",
    "        \n",
    "for i in new:\n",
    "    if i < 0:\n",
    "        print('hell')"
   ]
  },
  {
   "cell_type": "code",
   "execution_count": 74,
   "metadata": {},
   "outputs": [
    {
     "data": {
      "text/plain": [
       "list"
      ]
     },
     "execution_count": 74,
     "metadata": {},
     "output_type": "execute_result"
    }
   ],
   "source": [
    "idx = v_1['id']\n",
    "len(idx)\n",
    "type(new)"
   ]
  },
  {
   "cell_type": "code",
   "execution_count": 75,
   "metadata": {},
   "outputs": [],
   "source": [
    "list_to_pandas = [idx, np.array(new)]\n",
    "df = pd.DataFrame(list_to_pandas).transpose()\n",
    "df.columns = ['id', 'price']\n",
    "df.to_csv('submission.csv', mode='w')"
   ]
  }
 ],
 "metadata": {
  "kernelspec": {
   "display_name": "Python 3 (ipykernel)",
   "language": "python",
   "name": "python3"
  },
  "language_info": {
   "codemirror_mode": {
    "name": "ipython",
    "version": 3
   },
   "file_extension": ".py",
   "mimetype": "text/x-python",
   "name": "python",
   "nbconvert_exporter": "python",
   "pygments_lexer": "ipython3",
   "version": "3.11.4"
  }
 },
 "nbformat": 4,
 "nbformat_minor": 2
}
